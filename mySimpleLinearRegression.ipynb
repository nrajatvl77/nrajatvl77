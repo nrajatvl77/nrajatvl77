{
  "nbformat": 4,
  "nbformat_minor": 0,
  "metadata": {
    "colab": {
      "name": "Untitled0.ipynb",
      "provenance": [],
      "authorship_tag": "ABX9TyOYHiy+RnDGxpX+O4TwJIyx",
      "include_colab_link": true
    },
    "kernelspec": {
      "name": "python3",
      "display_name": "Python 3"
    },
    "language_info": {
      "name": "python"
    }
  },
  "cells": [
    {
      "cell_type": "markdown",
      "metadata": {
        "id": "view-in-github",
        "colab_type": "text"
      },
      "source": [
        "<a href=\"https://colab.research.google.com/github/nrajatvl77/nrajatvl77/blob/main/mySimpleLinearRegression.ipynb\" target=\"_parent\"><img src=\"https://colab.research.google.com/assets/colab-badge.svg\" alt=\"Open In Colab\"/></a>"
      ]
    },
    {
      "cell_type": "code",
      "metadata": {
        "colab": {
          "base_uri": "https://localhost:8080/",
          "height": 295
        },
        "id": "aC-zXU9-4FSA",
        "outputId": "95e3c5c9-ef1d-4d40-eafa-0a1561810463"
      },
      "source": [
        "import matplotlib.pyplot as plt\n",
        "x=[[6],[8],[10],[14],[18],[21]]\n",
        "y=[[7],[9],[13],[17.5],[18],[24]]\n",
        "plt.figure()\n",
        "plt.title('Pizza price statistics')\n",
        "plt.xlabel('Diameter (inches)')\n",
        "plt.ylabel('Price (dollars)')\n",
        "plt.plot(x,y,'*')\n",
        "plt.axis([0,25,0,25])\n",
        "plt.grid(True)\n",
        "plt.show()"
      ],
      "execution_count": 2,
      "outputs": [
        {
          "output_type": "display_data",
          "data": {
            "image/png": "[encoded data removed]",
            "text/plain": [
              "<Figure size 432x288 with 1 Axes>"
            ]
          },
          "metadata": {
            "needs_background": "light"
          }
        }
      ]
    }
  ]
}